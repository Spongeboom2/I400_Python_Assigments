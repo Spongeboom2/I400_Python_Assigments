{
 "cells": [
  {
   "cell_type": "code",
   "execution_count": 2,
   "id": "5dea7438",
   "metadata": {},
   "outputs": [
    {
     "name": "stdout",
     "output_type": "stream",
     "text": [
      "Sorted array is: \n",
      "0\n",
      "1\n",
      "2\n",
      "3\n",
      "4\n",
      "8\n",
      "9\n"
     ]
    }
   ],
   "source": [
    "#1 (Also test 1 for problem #2)\n",
    "\n",
    "def Bubbles(lists):\n",
    "    x = len(lists)\n",
    "    for i in range(x-1):\n",
    "        for l in range(0,x-i-1):\n",
    "            if lists[l]>lists[l+1]:\n",
    "                lists[l],lists[l+1]=lists[l+1],lists[l]\n",
    "\n",
    "lists = [0,1,8,4,3,2,9]\n",
    "Bubbles(lists)\n",
    "print(\"Sorted array is: \")\n",
    "for i in range(len(lists)):\n",
    "    print(\"%d\" %lists[i])"
   ]
  },
  {
   "cell_type": "code",
   "execution_count": 3,
   "id": "ae91b4b1",
   "metadata": {},
   "outputs": [
    {
     "name": "stdout",
     "output_type": "stream",
     "text": [
      "Sorted array is: \n",
      "1\n",
      "2\n",
      "3\n",
      "4\n",
      "6\n",
      "11\n",
      "20\n"
     ]
    }
   ],
   "source": [
    "#2 Test 2 (Using problem #1 as Test 1)\n",
    "def Bubbles(lists):\n",
    "    x = len(lists)\n",
    "    for i in range(x-1):\n",
    "        for l in range(0,x-i-1):\n",
    "            if lists[l]>lists[l+1]:\n",
    "                lists[l],lists[l+1]=lists[l+1],lists[l]\n",
    "\n",
    "lists = [6,3,2,1,4,11,20]\n",
    "Bubbles(lists)\n",
    "print(\"Sorted array is: \")\n",
    "for i in range(len(lists)):\n",
    "    print(\"%d\" %lists[i])\n",
    "\n"
   ]
  },
  {
   "cell_type": "code",
   "execution_count": 4,
   "id": "d2e62e2a",
   "metadata": {},
   "outputs": [
    {
     "name": "stdout",
     "output_type": "stream",
     "text": [
      "Sorted array is: \n",
      "10\n",
      "23\n",
      "33\n",
      "51\n",
      "54\n",
      "83\n",
      "91\n"
     ]
    }
   ],
   "source": [
    "#2 Test 3\n",
    "\n",
    "def Bubbles(lists):\n",
    "    x = len(lists)\n",
    "    for i in range(x-1):\n",
    "        for l in range(0,x-i-1):\n",
    "            if lists[l]>lists[l+1]:\n",
    "                lists[l],lists[l+1]=lists[l+1],lists[l]\n",
    "\n",
    "lists = [51,10,83,33,23,91,54]\n",
    "Bubbles(lists)\n",
    "print(\"Sorted array is: \")\n",
    "for i in range(len(lists)):\n",
    "    print(\"%d\" %lists[i])\n"
   ]
  },
  {
   "cell_type": "code",
   "execution_count": null,
   "id": "029f122a",
   "metadata": {},
   "outputs": [],
   "source": []
  }
 ],
 "metadata": {
  "kernelspec": {
   "display_name": "Python 3 (ipykernel)",
   "language": "python",
   "name": "python3"
  },
  "language_info": {
   "codemirror_mode": {
    "name": "ipython",
    "version": 3
   },
   "file_extension": ".py",
   "mimetype": "text/x-python",
   "name": "python",
   "nbconvert_exporter": "python",
   "pygments_lexer": "ipython3",
   "version": "3.9.7"
  }
 },
 "nbformat": 4,
 "nbformat_minor": 5
}
