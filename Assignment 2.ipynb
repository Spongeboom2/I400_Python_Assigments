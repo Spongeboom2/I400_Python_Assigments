{
 "cells": [
  {
   "cell_type": "code",
   "execution_count": 4,
   "id": "3587f047",
   "metadata": {},
   "outputs": [
    {
     "name": "stdout",
     "output_type": "stream",
     "text": [
      "Enter your name: Parker\n",
      "<class 'str'>\n",
      "6\n"
     ]
    }
   ],
   "source": [
    "#1\n",
    "name = input('Enter your name: ')\n",
    "print(type(name))\n",
    "print(len(name))"
   ]
  },
  {
   "cell_type": "code",
   "execution_count": 12,
   "id": "0cd9a454",
   "metadata": {},
   "outputs": [
    {
     "name": "stdout",
     "output_type": "stream",
     "text": [
      " Informatics\n"
     ]
    }
   ],
   "source": [
    "#2\n",
    "let = \"Introduction to Informatics\"\n",
    "print( let[15:])"
   ]
  },
  {
   "cell_type": "code",
   "execution_count": 13,
   "id": "4368437e",
   "metadata": {},
   "outputs": [
    {
     "name": "stdout",
     "output_type": "stream",
     "text": [
      "troductio\n"
     ]
    }
   ],
   "source": [
    "#3\n",
    "let = \"Introduction to Informatics\"\n",
    "print( let[2:11])"
   ]
  },
  {
   "cell_type": "code",
   "execution_count": 51,
   "id": "254e7a7b",
   "metadata": {},
   "outputs": [
    {
     "name": "stdout",
     "output_type": "stream",
     "text": [
      "Enter a Number: 2\n",
      "Enter a Number: 2\n",
      "Enter a Number: 2\n",
      "Enter a Number: 2\n",
      "Enter a Number: 2\n",
      "Enter a Number: 2\n",
      "Enter a Number: 2\n",
      "Enter a Number: 2\n",
      "Enter a Number: 2\n",
      "Enter a Number: 2\n",
      "No ODD values were entered\n"
     ]
    }
   ],
   "source": [
    "#4\n",
    "list = []\n",
    "for i in range(10):\n",
    "    while True:\n",
    "        try:\n",
    "            n = int(input('Enter a Number: '))\n",
    "            break\n",
    "        except ValueError:\n",
    "            print('What are you doing')\n",
    "            continue\n",
    "            \n",
    "    if n % 2 != 0:\n",
    "        list.append(n)\n",
    "\n",
    "while True:\n",
    "    try:\n",
    "        print('The last ODD value is: ' + str(list[-1]))\n",
    "        break\n",
    "    except IndexError:\n",
    "        print('No ODD values were entered')\n",
    "        break"
   ]
  },
  {
   "cell_type": "markdown",
   "id": "f376c2ad",
   "metadata": {},
   "source": []
  },
  {
   "cell_type": "code",
   "execution_count": 52,
   "id": "779ccdca",
   "metadata": {},
   "outputs": [
    {
     "name": "stdout",
     "output_type": "stream",
     "text": [
      "Enter a 5 digit number12345\n",
      "15\n"
     ]
    }
   ],
   "source": [
    "#5\n",
    "x = int(input(\"Enter a 5 digit number: \"))\n",
    "sum = 0\n",
    "for i in str(x):\n",
    "    sum +=int(i)\n",
    "\n",
    "print(sum)"
   ]
  },
  {
   "cell_type": "code",
   "execution_count": 53,
   "id": "9fa58763",
   "metadata": {},
   "outputs": [
    {
     "name": "stdout",
     "output_type": "stream",
     "text": [
      "Please enter your string: You\n",
      "uoY\n"
     ]
    }
   ],
   "source": [
    "#6\n",
    "x = input(\"Please enter your string: \")\n",
    "y = \"\"\n",
    "\n",
    "for i in x:\n",
    "    y = i + y\n",
    "\n",
    "print(y)"
   ]
  },
  {
   "cell_type": "code",
   "execution_count": 55,
   "id": "2b342e86",
   "metadata": {},
   "outputs": [
    {
     "name": "stdout",
     "output_type": "stream",
     "text": [
      "Informatics Informatics Informatics \n"
     ]
    }
   ],
   "source": [
    "#7\n",
    "str = \"Informatics \"\n",
    "print(str*3)"
   ]
  },
  {
   "cell_type": "code",
   "execution_count": 57,
   "id": "bc60536b",
   "metadata": {},
   "outputs": [
    {
     "name": "stdout",
     "output_type": "stream",
     "text": [
      "0\n",
      "5\n",
      "10\n",
      "15\n",
      "20\n",
      "25\n",
      "30\n",
      "35\n",
      "40\n",
      "45\n",
      "50\n",
      "55\n",
      "60\n",
      "65\n",
      "70\n",
      "75\n",
      "80\n",
      "85\n",
      "90\n",
      "95\n"
     ]
    }
   ],
   "source": [
    "#8\n",
    "min = 0\n",
    "max = 100\n",
    "for i in range (min,max):\n",
    "    if i % 5 ==0:\n",
    "        print(i)"
   ]
  },
  {
   "cell_type": "code",
   "execution_count": 61,
   "id": "f3c61784",
   "metadata": {},
   "outputs": [
    {
     "name": "stdout",
     "output_type": "stream",
     "text": [
      "Enter a negative number: -5\n",
      "5\n"
     ]
    }
   ],
   "source": [
    "#9\n",
    "x = int(input(\"Enter a negative number: \"))\n",
    "if x >= 0:\n",
    "    print(\"Thats not a negative number >:L \")\n",
    "else:\n",
    "    print(abs(x))"
   ]
  },
  {
   "cell_type": "code",
   "execution_count": 66,
   "id": "e25e8a6e",
   "metadata": {},
   "outputs": [
    {
     "name": "stdout",
     "output_type": "stream",
     "text": [
      "99\n"
     ]
    }
   ],
   "source": [
    "#10\n",
    "list = []\n",
    "for i in range (100):\n",
    "    if i % 3 == 0:\n",
    "       list.append(i)\n",
    "    \n",
    "print(list[-1])\n"
   ]
  },
  {
   "cell_type": "code",
   "execution_count": null,
   "id": "456485ac",
   "metadata": {},
   "outputs": [],
   "source": []
  }
 ],
 "metadata": {
  "kernelspec": {
   "display_name": "Python 3 (ipykernel)",
   "language": "python",
   "name": "python3"
  },
  "language_info": {
   "codemirror_mode": {
    "name": "ipython",
    "version": 3
   },
   "file_extension": ".py",
   "mimetype": "text/x-python",
   "name": "python",
   "nbconvert_exporter": "python",
   "pygments_lexer": "ipython3",
   "version": "3.9.7"
  }
 },
 "nbformat": 4,
 "nbformat_minor": 5
}
