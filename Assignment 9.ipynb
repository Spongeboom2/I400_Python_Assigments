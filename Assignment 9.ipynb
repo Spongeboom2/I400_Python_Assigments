{
 "cells": [
  {
   "cell_type": "code",
   "execution_count": 4,
   "id": "a5e8b4c9",
   "metadata": {},
   "outputs": [
    {
     "name": "stdout",
     "output_type": "stream",
     "text": [
      "[15]\n",
      "[5, 5, 5]\n",
      "[5, 5, 1, 1, 1, 1, 1]\n",
      "[5, 1, 1, 1, 1, 1, 1, 1, 1, 1, 1]\n",
      "[1, 1, 1, 1, 1, 1, 1, 1, 1, 1, 1, 1, 1, 1, 1]\n"
     ]
    }
   ],
   "source": [
    "from collections import defaultdict\n",
    "\n",
    "def coin_change(t,i,a):\n",
    "    if t == 0:\n",
    "        result.append(a)\n",
    "        return [a]\n",
    "\n",
    "    if t < 0 or i < 0:\n",
    "        return []\n",
    "\n",
    "    temp = []\n",
    "\n",
    "    if t - coins[i] >= 0:\n",
    "        temp.extend(coin_change(t-coins[i],i,a+[coins[i]]))\n",
    "        if i> 0:\n",
    "            temp.extend(coin_change(t,i-1,a))\n",
    "\n",
    "    d[t] = temp\n",
    "\n",
    "    return d[t]\n",
    "\n",
    "d = defaultdict(list)\n",
    "result = []\n",
    "coins = [1,5,10,15]\n",
    "coin_change(15,3,[])\n",
    "for items in result:\n",
    "    print(items)"
   ]
  },
  {
   "cell_type": "code",
   "execution_count": 12,
   "id": "a21a7777",
   "metadata": {},
   "outputs": [
    {
     "name": "stdout",
     "output_type": "stream",
     "text": [
      "Enter the set of denominations : 4 5 8 2 3\n",
      "Enter the total coins : 15\n",
      "[3, 3, 3, 3, 3]\n",
      "[3, 3, 3, 2, 2, 2]\n",
      "[3, 2, 2, 2, 2, 2, 2]\n",
      "[3, 2, 2, 8]\n",
      "[3, 2, 2, 4, 4]\n",
      "[3, 2, 5, 5]\n",
      "[3, 4, 4, 4]\n",
      "[2, 5, 4, 4]\n",
      "[5, 5, 5]\n"
     ]
    }
   ],
   "source": [
    "from collections import defaultdict\n",
    "def coin_change(t,i,a):\n",
    "    #base condition\n",
    "    if t == 0:\n",
    "        result.append(a)\n",
    "        return [a]\n",
    "\n",
    "    if t < 0 or i < 0:\n",
    "        return []\n",
    "\n",
    "    temp = []\n",
    "\n",
    "    if t - coins[i] >= 0:\n",
    "        temp.extend(coin_change(t-coins[i],i,a+[coins[i]]))\n",
    "        if i > 0:\n",
    "            temp.extend(coin_change(t,i-1,a))\n",
    "\n",
    "    \n",
    "    d[t] = temp\n",
    "\n",
    "    return d[t]\n",
    "\n",
    "d = defaultdict(list)\n",
    "result = []\n",
    "coins = list(map(int,input(\"Enter the set of denominations : \").split()))\n",
    "t = int(input(\"Enter the total coins : \"))\n",
    "#calling the function\n",
    "coin_change(t,len(coins)-1,[])\n",
    "for items in result:\n",
    "    print(items)"
   ]
  },
  {
   "cell_type": "code",
   "execution_count": null,
   "id": "e216086c",
   "metadata": {},
   "outputs": [],
   "source": []
  }
 ],
 "metadata": {
  "kernelspec": {
   "display_name": "Python 3 (ipykernel)",
   "language": "python",
   "name": "python3"
  },
  "language_info": {
   "codemirror_mode": {
    "name": "ipython",
    "version": 3
   },
   "file_extension": ".py",
   "mimetype": "text/x-python",
   "name": "python",
   "nbconvert_exporter": "python",
   "pygments_lexer": "ipython3",
   "version": "3.9.7"
  }
 },
 "nbformat": 4,
 "nbformat_minor": 5
}
