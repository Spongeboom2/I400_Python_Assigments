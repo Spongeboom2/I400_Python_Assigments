{
 "cells": [
  {
   "cell_type": "code",
   "execution_count": 1,
   "id": "ef5e11c3",
   "metadata": {},
   "outputs": [
    {
     "name": "stdout",
     "output_type": "stream",
     "text": [
      "Mean:  62.666666666666664\n",
      "Median:  72.0\n",
      "Variance:  1268.7058823529414\n",
      "Standard deviation:  35.618897826195315\n"
     ]
    }
   ],
   "source": [
    "#1\n",
    "def mean(list):\n",
    "    l = len(list)\n",
    "    i = 0\n",
    "    sum = 0\n",
    "    while i<l:\n",
    "        sum += list[i]\n",
    "        i += 1\n",
    "    return sum/l\n",
    "\n",
    "def median(list):\n",
    "    l = len(list)\n",
    "    list = sorted(list)\n",
    "    mid = l//2\n",
    "    if l%2 == 0:\n",
    "        return (list[mid]+list[mid-1])/2\n",
    "    else:\n",
    "        return list[mid]\n",
    "\n",
    "def standardDev(list):\n",
    "    m = mean(list)\n",
    "    l = len(list)\n",
    "    i = 0\n",
    "    sum = 0\n",
    "    while i<l:\n",
    "        sum +=(list[i]-m)*(list[i]-m)\n",
    "        i += 1\n",
    "    sum = sum / (l-1)\n",
    "    return sum**0.5\n",
    "\n",
    "list = [12]*5 + [60]*3 + [72]*4 + [100]*6\n",
    "print(\"Mean: \",mean(list))\n",
    "print(\"Median: \",median(list))\n",
    "sd = standardDev(list)\n",
    "print(\"Variance: \",sd*sd)\n",
    "print(\"Standard deviation: \",sd)"
   ]
  },
  {
   "cell_type": "code",
   "execution_count": 4,
   "id": "3875985f",
   "metadata": {},
   "outputs": [
    {
     "data": {
      "text/plain": [
       "(array([10.,  0., 10.,  0.,  6.,  0.,  0.,  8.,  4., 12.]),\n",
       " array([ 52.,  57.,  62.,  67.,  72.,  77.,  82.,  87.,  92.,  97., 102.]),\n",
       " <BarContainer object of 10 artists>)"
      ]
     },
     "execution_count": 4,
     "metadata": {},
     "output_type": "execute_result"
    },
    {
     "data": {
      "image/png": "[encoded data removed]",
      "text/plain": [
       "<Figure size 432x288 with 1 Axes>"
      ]
     },
     "metadata": {
      "needs_background": "light"
     },
     "output_type": "display_data"
    }
   ],
   "source": [
    "#2\n",
    "import matplotlib.pyplot as plt\n",
    "\n",
    "w = [88,76,65,96,52,98,102]\n",
    "s = [4,3,5,2,5,2,4]\n",
    "\n",
    "\n",
    "for x,y in zip(w,s):\n",
    "    for j in range(y):\n",
    "        f.append(x)\n",
    "        \n",
    "plt.hist(f)"
   ]
  },
  {
   "cell_type": "code",
   "execution_count": 5,
   "id": "b3e3aa31",
   "metadata": {},
   "outputs": [
    {
     "name": "stdout",
     "output_type": "stream",
     "text": [
      "P(88) = 0.16\n",
      "P(76) = 0.12\n",
      "P(65) = 0.2\n",
      "P(96) = 0.08\n",
      "P(52) = 0.2\n",
      "P(98) = 0.08\n",
      "P(102) = 0.16\n"
     ]
    }
   ],
   "source": [
    "#3\n",
    "w = [88,76,65,96,52,98,102]\n",
    "s = [4,3,5,2,5,2,4]\n",
    "mp = {}\n",
    "for i,j in zip(w,s):\n",
    "    mp[i] = j\n",
    "    total_freq = sum(s)\n",
    "    p = []\n",
    "for key in mp:\n",
    "    print('P('+str(key)+') = '+str(mp[key]/total_freq))"
   ]
  },
  {
   "cell_type": "code",
   "execution_count": 6,
   "id": "399e3787",
   "metadata": {},
   "outputs": [
    {
     "name": "stdout",
     "output_type": "stream",
     "text": [
      "[[ 0  1  2]\n",
      " [ 3  4  5]\n",
      " [ 6  7  8]\n",
      " [ 9 10 11]\n",
      " [12 13 14]\n",
      " [15 16 17]\n",
      " [18 19 20]\n",
      " [21 22 23]]\n"
     ]
    }
   ],
   "source": [
    "#4\n",
    "import numpy as np\n",
    "data = np.arange(24)\n",
    "data = data.reshape(8,3)\n",
    "print(data)"
   ]
  },
  {
   "cell_type": "code",
   "execution_count": null,
   "id": "2fb9755b",
   "metadata": {},
   "outputs": [],
   "source": []
  }
 ],
 "metadata": {
  "kernelspec": {
   "display_name": "Python 3 (ipykernel)",
   "language": "python",
   "name": "python3"
  },
  "language_info": {
   "codemirror_mode": {
    "name": "ipython",
    "version": 3
   },
   "file_extension": ".py",
   "mimetype": "text/x-python",
   "name": "python",
   "nbconvert_exporter": "python",
   "pygments_lexer": "ipython3",
   "version": "3.9.7"
  }
 },
 "nbformat": 4,
 "nbformat_minor": 5
}
