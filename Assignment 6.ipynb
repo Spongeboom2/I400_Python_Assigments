{
 "cells": [
  {
   "cell_type": "code",
   "execution_count": 29,
   "id": "30b122f5",
   "metadata": {},
   "outputs": [
    {
     "name": "stdout",
     "output_type": "stream",
     "text": [
      "Enter a number: 1\n",
      "Enter another number: 0\n",
      "You cant divide by zero\n"
     ]
    }
   ],
   "source": [
    "#1\n",
    "try:\n",
    "    x = float(input(\"Enter a number: \"))\n",
    "    y = float(input(\"Enter another number: \"))\n",
    "    \n",
    "    \n",
    "    plus = x+y\n",
    "    sub = x-y\n",
    "    multipy = x*y\n",
    "    divide = x/y\n",
    "    \n",
    "    print(\"Sum: \",plus)\n",
    "    print(\"Difference: \", sub)\n",
    "    print(\"Multiplication: \", multipy)\n",
    "    print(\"Divide: \", divide )\n",
    "    \n",
    "except ZeroDivisionError:\n",
    "        print (\"You cant divide by zero\")\n",
    "        \n",
    "except ValueError:\n",
    "    print(\"Invalid Input\")\n",
    "\n",
    "    \n",
    "    \n",
    "    \n",
    "    "
   ]
  },
  {
   "cell_type": "code",
   "execution_count": null,
   "id": "058eab89",
   "metadata": {},
   "outputs": [],
   "source": [
    "# 2 \n",
    "# Look for the included pdf\n"
   ]
  },
  {
   "cell_type": "code",
   "execution_count": 30,
   "id": "79189d77",
   "metadata": {},
   "outputs": [],
   "source": [
    "# 3\n",
    "# There are 4 functions in the pregnanices class: ReadRecords, \n",
    "# GetFilename, GetFields, and Recode"
   ]
  },
  {
   "cell_type": "code",
   "execution_count": 32,
   "id": "e3de7cf5",
   "metadata": {},
   "outputs": [
    {
     "name": "stdout",
     "output_type": "stream",
     "text": [
      "The Average is:  152.72\n"
     ]
    }
   ],
   "source": [
    "# 4 \n",
    "\n",
    "def Average(lst):\n",
    "    breakpoint()\n",
    "    return sum(lst) / len(lst)\n",
    "\n",
    "lst = [10,56.7,56,89,100,99,87.5,34,985,10]\n",
    "average = Average(lst)\n",
    "\n",
    "print(\"The Average is: \", average)"
   ]
  },
  {
   "cell_type": "code",
   "execution_count": 60,
   "id": "460f82ab",
   "metadata": {},
   "outputs": [
    {
     "name": "stdout",
     "output_type": "stream",
     "text": [
      "112.75\n",
      "314.1592653589793\n",
      "848.2865249339293\n"
     ]
    }
   ],
   "source": [
    "#6\n",
    "\n",
    "class Shape:\n",
    "    def area(self):\n",
    "        pass\n",
    "\n",
    "\n",
    "class Rectangle(Shape):\n",
    "    def __init__(self, length, bread):\n",
    "        self.length = length\n",
    "        self.bread = bread\n",
    "\n",
    "    def getlength(self):\n",
    "        return self.length\n",
    "\n",
    "    def setlength(self, length):\n",
    "        self.length = length\n",
    "\n",
    "    def getbread(self):\n",
    "        return self.bread\n",
    "\n",
    "    def setbread(self, bread):\n",
    "        self.bread = bread\n",
    "\n",
    "    def getarea(self):\n",
    "        return self.length * self.bread\n",
    "\n",
    "\n",
    "class Circle(Shape):\n",
    "    def __init__(self, radius):\n",
    "        self.radius = radius\n",
    "\n",
    "    def getradius(self):\n",
    "        return self.radius\n",
    "\n",
    "    def setradius(self, radius):\n",
    "            self.radius = radius\n",
    "\n",
    "    def getarea(self):\n",
    "        return pi * self.radius ** 2\n",
    "\n",
    "  \n",
    "class Polygon(Shape):\n",
    "    def __init__(self,nbOfSides,lengthOfSide):\n",
    "        self.nbOfSides=nbOfSides;\n",
    "        self.lengthOfSide=lengthOfSide\n",
    "        \n",
    "    def get_nbOfSides(self):\n",
    "        return self.nbOfSides\n",
    "    \n",
    "    def set_nbOfSides(self,nbOfSides):\n",
    "        self.nbOfSides=nbOfSides\n",
    "        \n",
    "    def getlengthOfSide(self):\n",
    "        return self.lengthOfSide\n",
    "    \n",
    "    def setlengthOfSide(self,lengthOfSide):\n",
    "        self.lengthOfSide=lengthOfSide\n",
    "    def getarea(self):\n",
    "        return self.nbOfSides * (self.lengthOfSide ** 2) / (4 * tan(pi / self.nbOfSides))\n",
    "\n",
    "r1 = Rectangle(20.5, 5.5)\n",
    "print(r1.getarea())\n",
    "\n",
    "circle=Circle(10)\n",
    "print(circle.getarea())\n",
    "\n",
    "polygon=Polygon(10,10.5)\n",
    "print(polygon.getarea())"
   ]
  },
  {
   "cell_type": "code",
   "execution_count": null,
   "id": "bf7af29a",
   "metadata": {},
   "outputs": [],
   "source": []
  },
  {
   "cell_type": "code",
   "execution_count": null,
   "id": "be26ce38",
   "metadata": {},
   "outputs": [],
   "source": []
  }
 ],
 "metadata": {
  "kernelspec": {
   "display_name": "Python 3 (ipykernel)",
   "language": "python",
   "name": "python3"
  },
  "language_info": {
   "codemirror_mode": {
    "name": "ipython",
    "version": 3
   },
   "file_extension": ".py",
   "mimetype": "text/x-python",
   "name": "python",
   "nbconvert_exporter": "python",
   "pygments_lexer": "ipython3",
   "version": "3.9.7"
  }
 },
 "nbformat": 4,
 "nbformat_minor": 5
}
