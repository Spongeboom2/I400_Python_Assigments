{
 "cells": [
  {
   "cell_type": "code",
   "execution_count": 9,
   "id": "9a79d80f",
   "metadata": {},
   "outputs": [
    {
     "name": "stdout",
     "output_type": "stream",
     "text": [
      "The Area of the rectangle is 52.5\n"
     ]
    }
   ],
   "source": [
    "# 1. Calculate the area of a rectangle and print the result\n",
    "W = 5\n",
    "L = 10.5\n",
    "A = W*L\n",
    "print('The Area of the rectangle is ' + str(A))"
   ]
  },
  {
   "cell_type": "code",
   "execution_count": 11,
   "id": "b9dd0aeb",
   "metadata": {},
   "outputs": [
    {
     "name": "stdout",
     "output_type": "stream",
     "text": [
      "The sqaure value of 5 is 25\n"
     ]
    }
   ],
   "source": [
    "# 2. Define a number and print the square value\n",
    "I = 5\n",
    "J = 2\n",
    "S = I**J\n",
    "\n",
    "print ('The sqaure value of 5 is ' + str(S))\n"
   ]
  },
  {
   "cell_type": "code",
   "execution_count": 25,
   "id": "7a2de939",
   "metadata": {},
   "outputs": [
    {
     "name": "stdout",
     "output_type": "stream",
     "text": [
      "999.34 is a <class 'float'> data type\n",
      "\"informatics\" is a <class 'str'> data type\n",
      "57685 is a <class 'int'> data type\n",
      "\"b501\" is a <class 'str'> data type, and is non-scalar\n"
     ]
    }
   ],
   "source": [
    "#3. Check the data types of the following objects\n",
    "F = 9999.34\n",
    "S = 'informatics'\n",
    "I = 57687\n",
    "U = 'b501'\n",
    "\n",
    "\n",
    "FT= type(F)\n",
    "ST = type(S)\n",
    "IT = type(I)\n",
    "UT = type(U)\n",
    "\n",
    "print('999.34 is a ' + str(FT) + ' data type')\n",
    "print('\"informatics\" is a ' + str(ST) + ' data type')\n",
    "print('57685 is a ' + str(IT) + ' data type')\n",
    "print('\"b501\" is a ' + str(UT) + ' data type, and is non-scalar')"
   ]
  },
  {
   "cell_type": "code",
   "execution_count": 29,
   "id": "700932f6",
   "metadata": {},
   "outputs": [
    {
     "name": "stdout",
     "output_type": "stream",
     "text": [
      "Divisible by 3 and not by 4\n"
     ]
    }
   ],
   "source": [
    "#4. for the number 96321 print if it is divisble by 3, 4 or none.\n",
    "x = 96321\n",
    "\n",
    "if x%3 == 0:\n",
    "    if x %4 == 0:\n",
    "        print ('Divisible by 3 and 4')\n",
    "    else:\n",
    "        print ('Divisible by 3 and not by 4')\n",
    "elif x%4 == 0:\n",
    "    print ('Divisble by 4 and not by 3')\n",
    "else: \n",
    "    print('Divisble by none')"
   ]
  },
  {
   "cell_type": "code",
   "execution_count": null,
   "id": "61f824fb",
   "metadata": {},
   "outputs": [],
   "source": []
  }
 ],
 "metadata": {
  "kernelspec": {
   "display_name": "Python 3 (ipykernel)",
   "language": "python",
   "name": "python3"
  },
  "language_info": {
   "codemirror_mode": {
    "name": "ipython",
    "version": 3
   },
   "file_extension": ".py",
   "mimetype": "text/x-python",
   "name": "python",
   "nbconvert_exporter": "python",
   "pygments_lexer": "ipython3",
   "version": "3.9.7"
  }
 },
 "nbformat": 4,
 "nbformat_minor": 5
}
