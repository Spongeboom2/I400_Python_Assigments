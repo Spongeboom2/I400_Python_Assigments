{
 "cells": [
  {
   "cell_type": "code",
   "execution_count": 1,
   "id": "b781d1ef",
   "metadata": {},
   "outputs": [
    {
     "name": "stdout",
     "output_type": "stream",
     "text": [
      "20044.332000000002\n"
     ]
    }
   ],
   "source": [
    "#1\n",
    "\n",
    "def products(list):\n",
    "    result = 1\n",
    "    for numb in list:\n",
    "        result *= numb\n",
    "    return result\n",
    "\n",
    "print(products([3,4,5,6,5.5,10.1234]))"
   ]
  },
  {
   "cell_type": "code",
   "execution_count": 3,
   "id": "ffc22590",
   "metadata": {},
   "outputs": [
    {
     "name": "stdout",
     "output_type": "stream",
     "text": [
      "informatics\n",
      "spring\n",
      "semester\n",
      "I501\n",
      "2018\n",
      "63\n",
      "students\n"
     ]
    }
   ],
   "source": [
    "#2\n",
    "\n",
    "tuplez = ('informatics','spring','semester','I501','2018','63','students')\n",
    "for items in tuplez:\n",
    "    print(items)\n",
    "    "
   ]
  },
  {
   "cell_type": "code",
   "execution_count": 6,
   "id": "bd9454a6",
   "metadata": {},
   "outputs": [
    {
     "name": "stdout",
     "output_type": "stream",
     "text": [
      "False\n",
      "False\n",
      "2066933587200\n",
      "2066933586752\n"
     ]
    }
   ],
   "source": [
    "#3\n",
    "\n",
    "l1 = ['student','python','script']\n",
    "l2 = ['student','java','program']\n",
    "\n",
    "print(l1 == l2)\n",
    "print(l1 is l2)\n",
    "print(id(l1))\n",
    "print(id(l2))"
   ]
  },
  {
   "cell_type": "code",
   "execution_count": 10,
   "id": "c8a01152",
   "metadata": {},
   "outputs": [],
   "source": [
    "#4\n",
    "#Lists used to make sure the code does not error out, the awnsers are a - d\n",
    "list1 =[1]\n",
    "list2=[2]\n",
    "list3=[3]\n",
    "\n",
    "#a\n",
    "list2 += list3\n",
    "\n",
    "#b\n",
    "del list3[0]\n",
    "\n",
    "#c\n",
    "(list1+list2+list3).insert(5,'sam')\n",
    "\n",
    "#d\n",
    "(list1+list2+list3).sort()\n"
   ]
  },
  {
   "cell_type": "code",
   "execution_count": 18,
   "id": "5d1a2761",
   "metadata": {},
   "outputs": [
    {
     "name": "stdout",
     "output_type": "stream",
     "text": [
      "Enter a sentence: Hello World\n",
      "['Hello', 'World']\n"
     ]
    }
   ],
   "source": [
    "def converter(lst):\n",
    "    return (lst[0].split())\n",
    "\n",
    "x = input(\"Enter a sentence: \")\n",
    "lst = []\n",
    "lst.append(x)\n",
    "print(converter(lst))\n"
   ]
  },
  {
   "cell_type": "code",
   "execution_count": 21,
   "id": "4812f8be",
   "metadata": {},
   "outputs": [
    {
     "name": "stdout",
     "output_type": "stream",
     "text": [
      "Andy appears 3 times\n",
      "('smith', 'andy', 'mary', 'andy', 'john', 'andy', 'mary')\n",
      "4\n"
     ]
    }
   ],
   "source": [
    "#6\n",
    "friends = ('sam','andy','mary','andy','john','andy','mary') \n",
    "\n",
    "#a \n",
    "counter = 0\n",
    "for i in friends:\n",
    "    if i=='andy':\n",
    "        counter += 1\n",
    "        \n",
    "print(\"Andy appears\",counter,\"times\")\n",
    "\n",
    "#b\n",
    "temp = list(friends)\n",
    "temp[0]=\"smith\"\n",
    "friends = tuple(temp)\n",
    "print(friends)\n",
    "\n",
    "#c\n",
    "print(friends.index(\"john\"))\n"
   ]
  },
  {
   "cell_type": "code",
   "execution_count": 25,
   "id": "6700b69d",
   "metadata": {},
   "outputs": [
    {
     "name": "stdout",
     "output_type": "stream",
     "text": [
      "['data1', 'data2', 'data3', 'data4', 'data5', 'data6']\n",
      "[100, 54, 247, 100, 54, 247]\n",
      "6\n"
     ]
    }
   ],
   "source": [
    "#7\n",
    "dict = {'data1':100,'data2':54,'data3':247, 'data4':100,'data5':54,'data6':247}\n",
    "\n",
    "#a Keys\n",
    "keys = list(dict.keys())\n",
    "print(keys)\n",
    "\n",
    "#b Values\n",
    "lst_values = list(dict.values())\n",
    "print(lst_values)\n",
    "\n",
    "#c Length\n",
    "print(len(dict))"
   ]
  },
  {
   "cell_type": "code",
   "execution_count": null,
   "id": "43b0952c",
   "metadata": {},
   "outputs": [],
   "source": []
  }
 ],
 "metadata": {
  "kernelspec": {
   "display_name": "Python 3 (ipykernel)",
   "language": "python",
   "name": "python3"
  },
  "language_info": {
   "codemirror_mode": {
    "name": "ipython",
    "version": 3
   },
   "file_extension": ".py",
   "mimetype": "text/x-python",
   "name": "python",
   "nbconvert_exporter": "python",
   "pygments_lexer": "ipython3",
   "version": "3.9.7"
  }
 },
 "nbformat": 4,
 "nbformat_minor": 5
}
