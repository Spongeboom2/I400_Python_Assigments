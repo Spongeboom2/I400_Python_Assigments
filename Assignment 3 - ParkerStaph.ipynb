{
 "cells": [
  {
   "cell_type": "code",
   "execution_count": 3,
   "id": "0e0ce74e",
   "metadata": {},
   "outputs": [
    {
     "name": "stdout",
     "output_type": "stream",
     "text": [
      "rounded:  13\n",
      "rounded:  9\n",
      "rounded:  7.36\n",
      "rounded:  6.24\n"
     ]
    }
   ],
   "source": [
    "#Test area ignore"
   ]
  },
  {
   "cell_type": "code",
   "execution_count": 13,
   "id": "4daedcf6",
   "metadata": {},
   "outputs": [
    {
     "name": "stdout",
     "output_type": "stream",
     "text": [
      "Enter a float number: 5.34\n",
      "The rounded number is:  5\n"
     ]
    }
   ],
   "source": [
    "#1\n",
    "\n",
    "x = float(input(\"Enter a float number: \"))\n",
    "print(\"The rounded number is: \", round(x))"
   ]
  },
  {
   "cell_type": "raw",
   "id": "84033105",
   "metadata": {},
   "source": []
  },
  {
   "cell_type": "code",
   "execution_count": 33,
   "id": "1c558b1a",
   "metadata": {},
   "outputs": [
    {
     "name": "stdout",
     "output_type": "stream",
     "text": [
      "Please enter a number: .6\n",
      "1\n"
     ]
    }
   ],
   "source": [
    "#2\n",
    "\n",
    "def my_function(x):\n",
    "  return round(x) \n",
    "\n",
    "y = float(input(\"Please enter a number: \"))\n",
    "\n",
    "print(my_function(y))"
   ]
  },
  {
   "cell_type": "code",
   "execution_count": 35,
   "id": "7c6539d1",
   "metadata": {},
   "outputs": [
    {
     "name": "stdout",
     "output_type": "stream",
     "text": [
      "please enter a number:5.43\n",
      "The difference of the square of the calculate value and the number is:  2.4852094604455033e-08\n"
     ]
    },
    {
     "data": {
      "text/plain": [
       "2.330236044878736"
      ]
     },
     "execution_count": 35,
     "metadata": {},
     "output_type": "execute_result"
    }
   ],
   "source": [
    "#3\n",
    "\n",
    "def squareRoot_apple(numb):\n",
    "    x = numb/2\n",
    "    while abs(x*x-numb)>.000001:\n",
    "        x = x - (x*x-numb)/(2*x)\n",
    "    print(\"The difference of the square of the calculate value and the number is: \",abs(x*x-numb))\n",
    "    return x\n",
    "\n",
    "\n",
    "y = float(input(\"please enter a number: \"))\n",
    "\n",
    "squareRoot_apple(y)"
   ]
  },
  {
   "cell_type": "code",
   "execution_count": 36,
   "id": "3a4078f2",
   "metadata": {},
   "outputs": [
    {
     "name": "stdout",
     "output_type": "stream",
     "text": [
      "Area of a rectangle:  48\n",
      "Area of a cuboid:  214\n"
     ]
    }
   ],
   "source": [
    "#4\n",
    "\n",
    "def area(length,width,height = 0):\n",
    "    if(height == 0):\n",
    "        area=length*width\n",
    "    else:\n",
    "        area=2*(length*width+width*height+height*length)\n",
    "        \n",
    "    return area\n",
    "\n",
    "print(\"Area of a rectangle: \",area(6,8))\n",
    "print(\"Area of a cuboid: \", area(5,6,7))"
   ]
  },
  {
   "cell_type": "code",
   "execution_count": null,
   "id": "d47a05a0",
   "metadata": {},
   "outputs": [],
   "source": []
  }
 ],
 "metadata": {
  "kernelspec": {
   "display_name": "Python 3 (ipykernel)",
   "language": "python",
   "name": "python3"
  },
  "language_info": {
   "codemirror_mode": {
    "name": "ipython",
    "version": 3
   },
   "file_extension": ".py",
   "mimetype": "text/x-python",
   "name": "python",
   "nbconvert_exporter": "python",
   "pygments_lexer": "ipython3",
   "version": "3.9.7"
  }
 },
 "nbformat": 4,
 "nbformat_minor": 5
}
