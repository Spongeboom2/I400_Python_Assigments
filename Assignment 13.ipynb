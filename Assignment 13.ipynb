{
 "cells": [
  {
   "cell_type": "code",
   "execution_count": null,
   "id": "2d4fbf1f",
   "metadata": {},
   "outputs": [],
   "source": [
    "#1\n",
    "import pandas as pd\n",
    "import matplotlib.pyplot as plt\n",
    "\n",
    "df=pd.read_csv(\"studentdata.csv\")\n",
    "df[\"BMI\"]=df[\"weight\"]/df[\"height\"]\n",
    "df\n",
    "\n",
    "plt.plot(df[\"age\"],df[\"BMI\"])\n",
    "plt.xlabel(\"age\")\n",
    "plt.ylabel(\"BMI\")\n",
    "plt.title(\"BMI and age\")\n",
    "plt.show"
   ]
  },
  {
   "cell_type": "code",
   "execution_count": null,
   "id": "f02dd368",
   "metadata": {},
   "outputs": [],
   "source": [
    "#2\n",
    "import pandas as pd\n",
    "import numpy as np\n",
    "\n",
    "data=pd.read_csv(\"studentdata.csv\")\n",
    "\n",
    "weight=data.weight\n",
    "height=data.height\n",
    "\n",
    "p1=np.polyfit(height,weight,deg=1)\n",
    "p2=np.polyfit(height,weight,deg=2)\n",
    "p3=np.polyfit(height,weight,deg=3)\n",
    "p4=np.polyfit(height,weight,deg=4)\n",
    "p5=np.polyfit(height,weight,deg=5)\n",
    "\n",
    "pred_weight1=np.polyval(p1,height)\n",
    "pred_weight2=np.polyval(p2,height) \n",
    "pred_weight3=np.polyval(p3,height) \n",
    "pred_weight4=np.polyval(p4,height)\n",
    "pred_weight5=np.polyval(p5,height) \n",
    "\n",
    "r21=1-np.sum((weight-pred_weight1)**2)/np.sum((weight-np.mean(weight))**2)\n",
    "r22=1-np.sum((weight-pred_weight2)**2)/np.sum((weight-np.mean(weight))**2)\n",
    "r23=1-np.sum((weight-pred_weight3)**2)/np.sum((weight-np.mean(weight))**2)\n",
    "r24=1-np.sum((weight-pred_weight4)**2)/np.sum((weight-np.mean(weight))**2)\n",
    "r25=1-np.sum((weight-pred_weight5)**2)/np.sum((weight-np.mean(weight))**2)\n",
    "\n",
    "\n",
    "print(\"The r2 score for five models\")\n",
    "print(f'model1:r2={round(r21,2)},model2:r2={round(r22,2)}')\n",
    "print(f'model3:r2={round(r23,2)} model4:r2={round(r24,2)} model5:r2={round(r25,2)}')\n",
    "\n",
    "ad_r21=1-(1-r21)*(len(height)-1)/(len(height)-1-1)\n",
    "ad_r22=1-(1-r22)*(len(height)-1)/(len(height)-2-1)\n",
    "ad_r23=1-(1-r23)*(len(height)-1)/(len(height)-3-1)\n",
    "ad_r24=1-(1-r24)*(len(height)-1)/(len(height)-4-1)\n",
    "ad_r25=1-(1-r25)*(len(height)-1)/(len(height)-5-1)\n",
    "print(\" \")\n",
    "print(\"The adjusted r2 score for five models\")\n",
    "print(f'model1:ad_r2={round(ad_r21,2)},model2:ad_r2={round(ad_r22,2)}')\n",
    "print(f'model3:ad_r2={round(ad_r23,2)} model4:ad_r2={round(ad_r24,2)} model5:ad_r2={round(ad_r25,2)}')"
   ]
  },
  {
   "cell_type": "code",
   "execution_count": 17,
   "id": "81a3f036",
   "metadata": {},
   "outputs": [
    {
     "name": "stdout",
     "output_type": "stream",
     "text": [
      "R-Squared: 0.9999907300637704\n"
     ]
    },
    {
     "data": {
      "image/png": "[encoded data removed]",
      "text/plain": [
       "<Figure size 432x288 with 1 Axes>"
      ]
     },
     "metadata": {
      "needs_background": "light"
     },
     "output_type": "display_data"
    }
   ],
   "source": [
    "#3 / 4\n",
    "import random\n",
    "import matplotlib.pyplot as plt\n",
    "import numpy as np\n",
    "\n",
    "\n",
    "def rSquared(actual, predicted):\n",
    "    errorval = ((predicted - actual)**2).sum()\n",
    "    meanval = errorval/len(actual)\n",
    "    return 1 - (meanval/np.var(actual))\n",
    "\n",
    "\n",
    "#Awnser for question 3\n",
    "def createData(xvals):\n",
    "    yvals= []\n",
    "    for x in xvals:\n",
    "        yval= 3*x**4 + 1*x**3 + 3*x**2 + 4*x + 5\n",
    "        yvals.append(yval+ random.gauss(0, 35))\n",
    "    return yvals\n",
    "\n",
    "xvals = np.arange(-10, 10, 1)\n",
    "yvals = createData(xvals)\n",
    "\n",
    "\n",
    "#Awnser for question 4\n",
    "for i in range (6):\n",
    "    model= np.polyfit(xvals, yvals, i)\n",
    "    estYvals = np.polyval(model, xvals)\n",
    "\n",
    "print('R-Squared:', rSquared(yvals, estYvals))\n",
    "plt.plot(xvals, yvals, 'b', label = 'Actual values')\n",
    "plt.plot(xvals, estYvals, 'ro', label = 'Predicted values')\n",
    "plt.xlabel('x')\n",
    "plt.ylabel('Calculated Polynomial for given x)')\n",
    "plt.legend()\n",
    "plt.show()"
   ]
  },
  {
   "cell_type": "code",
   "execution_count": null,
   "id": "2039c797",
   "metadata": {},
   "outputs": [],
   "source": [
    "#4\n"
   ]
  }
 ],
 "metadata": {
  "kernelspec": {
   "display_name": "Python 3 (ipykernel)",
   "language": "python",
   "name": "python3"
  },
  "language_info": {
   "codemirror_mode": {
    "name": "ipython",
    "version": 3
   },
   "file_extension": ".py",
   "mimetype": "text/x-python",
   "name": "python",
   "nbconvert_exporter": "python",
   "pygments_lexer": "ipython3",
   "version": "3.9.7"
  }
 },
 "nbformat": 4,
 "nbformat_minor": 5
}
