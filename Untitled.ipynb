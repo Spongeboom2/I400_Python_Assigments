{
 "cells": [
  {
   "cell_type": "code",
   "execution_count": 61,
   "id": "2b734720",
   "metadata": {},
   "outputs": [
    {
     "data": {
      "text/plain": [
       "<function __main__.addI501Student(firstName, lastName, school='SOIC', graduate=True)>"
      ]
     },
     "execution_count": 61,
     "metadata": {},
     "output_type": "execute_result"
    }
   ],
   "source": [
    "def addI501Student(firstName, lastName, school=\"SOIC\", graduate=True):\n",
    "    return addI501Student\n",
    "\n",
    "\n",
    "\n",
    "\n",
    "addI501Student(lastName=\"Blow\", firstName=\"Joe\", graduate=True, school=\"MED\")"
   ]
  },
  {
   "cell_type": "raw",
   "id": "f219003f",
   "metadata": {},
   "source": []
  },
  {
   "cell_type": "code",
   "execution_count": 1,
   "id": "5bf4f435",
   "metadata": {},
   "outputs": [
    {
     "name": "stdout",
     "output_type": "stream",
     "text": [
      "1844137072128\n",
      "1844137072128\n"
     ]
    }
   ],
   "source": [
    "s1 = ['blue', 'red', 'pink']\n",
    "print(id(s1))\n",
    "s1.append('orange')\n",
    "print(id(s1))"
   ]
  },
  {
   "cell_type": "code",
   "execution_count": 3,
   "id": "b4b92a4c",
   "metadata": {},
   "outputs": [
    {
     "name": "stdout",
     "output_type": "stream",
     "text": [
      "5\n"
     ]
    }
   ],
   "source": [
    "t1 = (1, 2, 3)\n",
    "t2 = (t1, '0')\n",
    "t3 = (t1 + t2)\n",
    "print(len(t3))"
   ]
  },
  {
   "cell_type": "code",
   "execution_count": 5,
   "id": "eca37bee",
   "metadata": {},
   "outputs": [
    {
     "name": "stdout",
     "output_type": "stream",
     "text": [
      "<_io.TextIOWrapper name='ages' mode='a' encoding='cp1252'>\n"
     ]
    }
   ],
   "source": [
    "nameFile = open('ages', 'a') \n",
    "for line in \"Hello World\":\n",
    "    nameFile.write(line) \n",
    "nameFile.close()\n"
   ]
  },
  {
   "cell_type": "code",
   "execution_count": 12,
   "id": "d8735808",
   "metadata": {},
   "outputs": [
    {
     "name": "stdout",
     "output_type": "stream",
     "text": [
      "[1, 4, 9, 16, 25, 36]\n"
     ]
    }
   ],
   "source": [
    "L = [x**2 for x in range(1,7)]\n",
    "print(L)"
   ]
  },
  {
   "cell_type": "code",
   "execution_count": null,
   "id": "71de41c8",
   "metadata": {},
   "outputs": [],
   "source": []
  }
 ],
 "metadata": {
  "kernelspec": {
   "display_name": "Python 3 (ipykernel)",
   "language": "python",
   "name": "python3"
  },
  "language_info": {
   "codemirror_mode": {
    "name": "ipython",
    "version": 3
   },
   "file_extension": ".py",
   "mimetype": "text/x-python",
   "name": "python",
   "nbconvert_exporter": "python",
   "pygments_lexer": "ipython3",
   "version": "3.9.7"
  }
 },
 "nbformat": 4,
 "nbformat_minor": 5
}
