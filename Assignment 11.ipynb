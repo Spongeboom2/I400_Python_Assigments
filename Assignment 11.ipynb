{
 "cells": [
  {
   "cell_type": "code",
   "execution_count": 7,
   "id": "981247d3",
   "metadata": {},
   "outputs": [],
   "source": [
    "#1\n",
    "import random\n",
    "\n",
    "def choose():\n",
    "    cards = ['A','2','3','4','5','6','7','8','9','10','J','Q','K']\n",
    "    return random.choice(cards)\n",
    "\n",
    "def cards():\n",
    "    card1 = choose()\n",
    "    card2 = choose()\n",
    "    card3 = choose()\n",
    "    if card1 == card2 and card2 == card3:\n",
    "        return True\n",
    "    else:\n",
    "        return False"
   ]
  },
  {
   "cell_type": "code",
   "execution_count": 8,
   "id": "fe0b9797",
   "metadata": {},
   "outputs": [
    {
     "name": "stdout",
     "output_type": "stream",
     "text": [
      "Probability is 0.0063\n"
     ]
    }
   ],
   "source": [
    "#2\n",
    "def prob():\n",
    "    count=0\n",
    "    for i in range(10000):\n",
    "        if cards():\n",
    "            count+=1\n",
    "    print('Probability is',count/10000)\n",
    "\n",
    "prob()"
   ]
  },
  {
   "cell_type": "code",
   "execution_count": null,
   "id": "591120a5",
   "metadata": {},
   "outputs": [],
   "source": []
  },
  {
   "cell_type": "code",
   "execution_count": null,
   "id": "07a8bc39",
   "metadata": {},
   "outputs": [],
   "source": []
  }
 ],
 "metadata": {
  "kernelspec": {
   "display_name": "Python 3 (ipykernel)",
   "language": "python",
   "name": "python3"
  },
  "language_info": {
   "codemirror_mode": {
    "name": "ipython",
    "version": 3
   },
   "file_extension": ".py",
   "mimetype": "text/x-python",
   "name": "python",
   "nbconvert_exporter": "python",
   "pygments_lexer": "ipython3",
   "version": "3.9.7"
  }
 },
 "nbformat": 4,
 "nbformat_minor": 5
}
