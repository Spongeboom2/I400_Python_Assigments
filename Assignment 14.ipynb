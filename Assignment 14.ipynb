{
 "cells": [
  {
   "cell_type": "code",
   "execution_count": 13,
   "id": "a07f6065",
   "metadata": {},
   "outputs": [
    {
     "name": "stdout",
     "output_type": "stream",
     "text": [
      "Country Code: BD\n",
      "Continent: Asia\n",
      "-----------------------------------\n",
      "Country Code: BE\n",
      "Continent: Europe\n"
     ]
    }
   ],
   "source": [
    "#1\n",
    "class Country:\n",
    "    def __init__(self, name, continent):\n",
    "        self.name = name                    \n",
    "        self.continent = continent          \n",
    "\n",
    "\n",
    "country = Country(\"BD\", \"Asia\")\n",
    " \n",
    "print('Country Code:',country.name)\n",
    "print('Continent:',country.continent)\n",
    "print('-----------------------------------') \n",
    "\n",
    "\n",
    "country. name = \"BE\" \n",
    "country.continent = \"Europe\" \n",
    "\n",
    "print('Country Code:',country.name) \n",
    "print('Continent:',country.continent) "
   ]
  },
  {
   "cell_type": "code",
   "execution_count": 6,
   "id": "059e3b6d",
   "metadata": {},
   "outputs": [],
   "source": [
    "#2 / 3\n",
    "import pandas as pd\n",
    "\n",
    "data = pd.read_csv('bm_results2012.csv')\n",
    "\n",
    "data.head(10)\n",
    "data.info()\n",
    "data.drop(data[data.official.str.contains(r'[-]')].index , inplace=True)\n",
    "data.info()\n",
    "\n",
    "\n",
    "df = pd.DataFrame(data.groupby('country')[['official']].min())\n",
    "df['country']=df.index\n",
    "df.reset_index(drop=True, inplace = True)\n",
    "print(df)\n",
    "\n",
    "dictionary_of_countries= pd.Series(df.official.values,index=df.country).to_dict()\n",
    "print(dictionary_of_countries)"
   ]
  },
  {
   "cell_type": "code",
   "execution_count": 14,
   "id": "232f39ff",
   "metadata": {},
   "outputs": [],
   "source": [
    "#4\n",
    "#Because there both Europe and africa have signicant difference in times\n",
    "#In there running, with Europe average in the 100's and Africa in the 200's\n",
    "#This would prove the null hyptohesis wrong due to their different times."
   ]
  },
  {
   "cell_type": "code",
   "execution_count": null,
   "id": "caa6f9f4",
   "metadata": {},
   "outputs": [],
   "source": []
  }
 ],
 "metadata": {
  "kernelspec": {
   "display_name": "Python 3 (ipykernel)",
   "language": "python",
   "name": "python3"
  },
  "language_info": {
   "codemirror_mode": {
    "name": "ipython",
    "version": 3
   },
   "file_extension": ".py",
   "mimetype": "text/x-python",
   "name": "python",
   "nbconvert_exporter": "python",
   "pygments_lexer": "ipython3",
   "version": "3.9.7"
  }
 },
 "nbformat": 4,
 "nbformat_minor": 5
}
